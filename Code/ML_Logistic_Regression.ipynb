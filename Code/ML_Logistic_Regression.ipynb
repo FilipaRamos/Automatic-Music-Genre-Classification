{
 "cells": [
  {
   "cell_type": "code",
   "execution_count": 37,
   "metadata": {
    "collapsed": true
   },
   "outputs": [],
   "source": [
    "import numpy\n",
    "import math\n",
    "import csv\n",
    "from sklearn import linear_model, preprocessing"
   ]
  },
  {
   "cell_type": "code",
   "execution_count": 38,
   "metadata": {
    "collapsed": true
   },
   "outputs": [],
   "source": [
    "def import_features(filepath):\n",
    "    data = []\n",
    "    with open(filepath, 'r') as csvfile:\n",
    "        file = csv.reader(csvfile, delimiter=',')\n",
    "        for row in file:\n",
    "            line = []\n",
    "            for i in range(0, 264):\n",
    "                line.append(float(row[i]))\n",
    "            data.append(line)\n",
    "        return data"
   ]
  },
  {
   "cell_type": "code",
   "execution_count": 39,
   "metadata": {
    "collapsed": true
   },
   "outputs": [],
   "source": [
    "def import_y(filepath):\n",
    "    return numpy.loadtxt(filepath)"
   ]
  },
  {
   "cell_type": "code",
   "execution_count": 40,
   "metadata": {
    "collapsed": true
   },
   "outputs": [],
   "source": [
    "def scale_features(Xtrain, Xtest):\n",
    "    scaler = preprocessing.StandardScaler().fit(Xtrain)\n",
    "    Xtrain = scaler.transform(Xtrain)\n",
    "    Xtest = scaler.transform(Xtest)\n",
    "    return Xtrain, Xtest"
   ]
  },
  {
   "cell_type": "code",
   "execution_count": 41,
   "metadata": {
    "collapsed": true
   },
   "outputs": [],
   "source": [
    "def export_data_accuracy(y):\n",
    "    with open('pred_label.csv', 'w') as csvfile:\n",
    "        writer = csv.writer(csvfile, delimiter=',')\n",
    "        writer.writerow(['Sample_id','Sample_label'])\n",
    "        for i in range(0, len(y)):\n",
    "            index = i+1\n",
    "            writer.writerow([str(index),str(y[i])])"
   ]
  },
  {
   "cell_type": "code",
   "execution_count": 42,
   "metadata": {
    "collapsed": true
   },
   "outputs": [],
   "source": [
    "def export_data_log_loss(y):\n",
    "    with open('pred_label.csv', 'w') as csvfile:\n",
    "        writer = csv.writer(csvfile, delimiter=',')\n",
    "        writer.writerow(['Sample_id','Class_1','Class_2','Class_3','Class_4','Class_5','Class_6','Class_7','Class_8','Class_9','Class_10'])\n",
    "        for i in range(0, len(y)):\n",
    "            index = i+1\n",
    "            temp = [str(index)]\n",
    "            for k in range(0, len(y[i])):\n",
    "                temp.append(str(y[i][k]))\n",
    "            writer.writerow(temp)"
   ]
  },
  {
   "cell_type": "code",
   "execution_count": 43,
   "metadata": {
    "collapsed": true
   },
   "outputs": [],
   "source": [
    "def get_classifier(x, y):\n",
    "    reg = linear_model.LogisticRegression()\n",
    "    reg.fit(x, y)\n",
    "    return reg"
   ]
  },
  {
   "cell_type": "code",
   "execution_count": 44,
   "metadata": {
    "collapsed": true
   },
   "outputs": [],
   "source": [
    "def classify(reg, x):\n",
    "    return reg.predict([x])"
   ]
  },
  {
   "cell_type": "code",
   "execution_count": 45,
   "metadata": {
    "collapsed": true
   },
   "outputs": [],
   "source": [
    "def calculate_p(reg, x):\n",
    "    return reg.predict_proba([x])"
   ]
  },
  {
   "cell_type": "code",
   "execution_count": 46,
   "metadata": {
    "collapsed": true
   },
   "outputs": [],
   "source": [
    "def filter_data(y, genre):\n",
    "    y_temp = []\n",
    "    for i in range(0, len(y)):\n",
    "        if y[i] == genre:\n",
    "            y_temp.append(1)\n",
    "        else:\n",
    "            y_temp.append(0)\n",
    "    return y_temp"
   ]
  },
  {
   "cell_type": "code",
   "execution_count": 47,
   "metadata": {
    "collapsed": true
   },
   "outputs": [],
   "source": [
    "nr_genres = 10\n",
    "\n",
    "def accuracy_test():\n",
    "    classifiers = []\n",
    "    features = import_features('train_data.csv')\n",
    "    y = import_y('train_labels.csv')\n",
    "\n",
    "    for i in range(1, nr_genres+1):\n",
    "        filtered = filter_data(y, i)\n",
    "        classifiers.append(get_classifier(features, filtered))\n",
    "\n",
    "    test_set = import_features('test_data.csv')\n",
    "    y_pred = []\n",
    "    features, test_set = scale_features(features, test_set)\n",
    "    \n",
    "    for k in range(0, len(test_set)):\n",
    "        predictions = []\n",
    "        for j in range(0, len(classifiers)):\n",
    "            prediction = classify(classifiers[j], test_set[k])\n",
    "            if prediction == 1:\n",
    "                prediction = calculate_p(classifiers[j], test_set[k])[0][1]\n",
    "            predictions.append(prediction)\n",
    "        y_pred.append(predictions.index(max(predictions)) + 1)\n",
    "\n",
    "    export_data_accuracy(y_pred)"
   ]
  },
  {
   "cell_type": "code",
   "execution_count": 48,
   "metadata": {
    "collapsed": true
   },
   "outputs": [],
   "source": [
    "def log_loss_test():\n",
    "    classifiers = []\n",
    "    features = import_features('train_data.csv')\n",
    "    y = import_y('train_labels.csv')\n",
    "\n",
    "    for i in range(1, nr_genres+1):\n",
    "        filtered = filter_data(y, i)\n",
    "        classifiers.append(get_classifier(features, filtered))\n",
    "\n",
    "    test_set = import_features('test_data.csv')\n",
    "    y_pred = []\n",
    "    features, test_set = scale_features(features, test_set)\n",
    "    \n",
    "    for k in range(0, len(test_set)):\n",
    "        predictions = []\n",
    "        for j in range(0, len(classifiers)):\n",
    "            prediction = calculate_p(classifiers[j], test_set[k])[0][1]\n",
    "            predictions.append(prediction)\n",
    "        y_pred.append(predictions)\n",
    "\n",
    "    export_data_log_loss(y_pred)"
   ]
  },
  {
   "cell_type": "code",
   "execution_count": 50,
   "metadata": {},
   "outputs": [],
   "source": [
    "log_loss_test()"
   ]
  }
 ],
 "metadata": {
  "kernelspec": {
   "display_name": "Python 3",
   "language": "python",
   "name": "python3"
  },
  "language_info": {
   "codemirror_mode": {
    "name": "ipython",
    "version": 3
   },
   "file_extension": ".py",
   "mimetype": "text/x-python",
   "name": "python",
   "nbconvert_exporter": "python",
   "pygments_lexer": "ipython3",
   "version": "3.6.2"
  }
 },
 "nbformat": 4,
 "nbformat_minor": 2
}
